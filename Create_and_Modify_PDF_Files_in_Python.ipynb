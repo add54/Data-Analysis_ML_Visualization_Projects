{
  "nbformat": 4,
  "nbformat_minor": 0,
  "metadata": {
    "colab": {
      "name": "Create_and_Modify_PDF_Files_in_Python.ipynb",
      "provenance": [],
      "mount_file_id": "1rHfM5n8HRMzOZZYvfmDVW0MSpfazIY-2",
      "authorship_tag": "ABX9TyNUQ3ffNBqiXA+WB3JsvdlJ",
      "include_colab_link": true
    },
    "kernelspec": {
      "name": "python3",
      "display_name": "Python 3"
    },
    "language_info": {
      "name": "python"
    }
  },
  "cells": [
    {
      "cell_type": "markdown",
      "metadata": {
        "id": "view-in-github",
        "colab_type": "text"
      },
      "source": [
        "<a href=\"https://colab.research.google.com/github/add54/Data-Analysis_ML_Visualization_Projects/blob/master/Create_and_Modify_PDF_Files_in_Python.ipynb\" target=\"_parent\"><img src=\"https://colab.research.google.com/assets/colab-badge.svg\" alt=\"Open In Colab\"/></a>"
      ]
    },
    {
      "cell_type": "code",
      "metadata": {
        "colab": {
          "base_uri": "https://localhost:8080/"
        },
        "id": "knuNWvFmlKlz",
        "outputId": "fed3fc36-584e-481b-cdd6-ed7c4c87656d"
      },
      "source": [
        "pip install PyPDF2"
      ],
      "execution_count": 1,
      "outputs": [
        {
          "output_type": "stream",
          "name": "stdout",
          "text": [
            "Collecting PyPDF2\n",
            "  Downloading PyPDF2-1.26.0.tar.gz (77 kB)\n",
            "\u001b[?25l\r\u001b[K     |████▎                           | 10 kB 22.8 MB/s eta 0:00:01\r\u001b[K     |████████▌                       | 20 kB 25.1 MB/s eta 0:00:01\r\u001b[K     |████████████▊                   | 30 kB 27.3 MB/s eta 0:00:01\r\u001b[K     |█████████████████               | 40 kB 29.7 MB/s eta 0:00:01\r\u001b[K     |█████████████████████▏          | 51 kB 32.9 MB/s eta 0:00:01\r\u001b[K     |█████████████████████████▍      | 61 kB 35.1 MB/s eta 0:00:01\r\u001b[K     |█████████████████████████████▋  | 71 kB 36.5 MB/s eta 0:00:01\r\u001b[K     |████████████████████████████████| 77 kB 6.3 MB/s \n",
            "\u001b[?25hBuilding wheels for collected packages: PyPDF2\n",
            "  Building wheel for PyPDF2 (setup.py) ... \u001b[?25l\u001b[?25hdone\n",
            "  Created wheel for PyPDF2: filename=PyPDF2-1.26.0-py3-none-any.whl size=61101 sha256=1290deea54ffb0e206f33ecbaafea9521cd2fe8e4e4b58acd16af7f6989a2ae3\n",
            "  Stored in directory: /root/.cache/pip/wheels/80/1a/24/648467ade3a77ed20f35cfd2badd32134e96dd25ca811e64b3\n",
            "Successfully built PyPDF2\n",
            "Installing collected packages: PyPDF2\n",
            "Successfully installed PyPDF2-1.26.0\n"
          ]
        }
      ]
    },
    {
      "cell_type": "code",
      "metadata": {
        "id": "gJ4QmmjEliKI"
      },
      "source": [
        "from PyPDF2 import PdfFileReader"
      ],
      "execution_count": 2,
      "outputs": []
    },
    {
      "cell_type": "code",
      "metadata": {
        "id": "Yj8diOKllj1R"
      },
      "source": [
        "from pathlib import Path\n",
        "pdf_path = (Path.home)"
      ],
      "execution_count": 47,
      "outputs": []
    },
    {
      "cell_type": "code",
      "metadata": {
        "colab": {
          "base_uri": "https://localhost:8080/"
        },
        "id": "bIg-ShhmmcnF",
        "outputId": "748d3cab-e6a1-4411-aa10-e4ef2ddb1cf9"
      },
      "source": [
        "pdf = PdfFileReader(str('/content/drive/MyDrive/Resume_1626368897.pdf'))\n",
        "pdf"
      ],
      "execution_count": 8,
      "outputs": [
        {
          "output_type": "execute_result",
          "data": {
            "text/plain": [
              "<PyPDF2.pdf.PdfFileReader at 0x7f4e6233eb90>"
            ]
          },
          "metadata": {},
          "execution_count": 8
        }
      ]
    },
    {
      "cell_type": "code",
      "metadata": {
        "colab": {
          "base_uri": "https://localhost:8080/"
        },
        "id": "CEExWIrknULR",
        "outputId": "cc71876c-f930-41e5-9895-b1f9740e20b4"
      },
      "source": [
        "pdf.getNumPages()"
      ],
      "execution_count": 9,
      "outputs": [
        {
          "output_type": "execute_result",
          "data": {
            "text/plain": [
              "1"
            ]
          },
          "metadata": {},
          "execution_count": 9
        }
      ]
    },
    {
      "cell_type": "code",
      "metadata": {
        "colab": {
          "base_uri": "https://localhost:8080/"
        },
        "id": "qDpkEaStnXZO",
        "outputId": "4cfaa7c2-d352-4595-da66-2596dcf22c85"
      },
      "source": [
        "pdf.documentInfo"
      ],
      "execution_count": 10,
      "outputs": [
        {
          "output_type": "execute_result",
          "data": {
            "text/plain": [
              "{}"
            ]
          },
          "metadata": {},
          "execution_count": 10
        }
      ]
    },
    {
      "cell_type": "code",
      "metadata": {
        "id": "ot1qXS1cndrQ"
      },
      "source": [
        "pdf.documentInfo.title"
      ],
      "execution_count": 49,
      "outputs": []
    },
    {
      "cell_type": "code",
      "metadata": {
        "id": "hGdZDuydnl8b"
      },
      "source": [
        " first_page = pdf.getPage(0)"
      ],
      "execution_count": 13,
      "outputs": []
    },
    {
      "cell_type": "code",
      "metadata": {
        "colab": {
          "base_uri": "https://localhost:8080/"
        },
        "id": "IzgtuAZ8nsqS",
        "outputId": "24ff97f9-9d43-455e-ac6d-1b7bb1c552a4"
      },
      "source": [
        "type(first_page)"
      ],
      "execution_count": 50,
      "outputs": [
        {
          "output_type": "execute_result",
          "data": {
            "text/plain": [
              "PyPDF2.pdf.PageObject"
            ]
          },
          "metadata": {},
          "execution_count": 50
        }
      ]
    },
    {
      "cell_type": "code",
      "metadata": {
        "colab": {
          "base_uri": "https://localhost:8080/",
          "height": 35
        },
        "id": "aiQYxxpfqX6V",
        "outputId": "1eb7c7c0-2556-48c2-e536-7c864832fb3b"
      },
      "source": [
        "first_page.extractText()"
      ],
      "execution_count": 51,
      "outputs": [
        {
          "output_type": "execute_result",
          "data": {
            "application/vnd.google.colaboratory.intrinsic+json": {
              "type": "string"
            },
            "text/plain": [
              "''"
            ]
          },
          "metadata": {},
          "execution_count": 51
        }
      ]
    },
    {
      "cell_type": "code",
      "metadata": {
        "colab": {
          "base_uri": "https://localhost:8080/"
        },
        "id": "TIxfY18dqfX3",
        "outputId": "2aed5970-cdc8-4f15-d52e-a0b86cee20ad"
      },
      "source": [
        "for page in pdf.pages:\n",
        "  print(page.extractText())"
      ],
      "execution_count": 52,
      "outputs": [
        {
          "output_type": "stream",
          "name": "stdout",
          "text": [
            "\n"
          ]
        }
      ]
    },
    {
      "cell_type": "code",
      "metadata": {
        "id": "b8rysPLYrJuo"
      },
      "source": [
        "from pathlib import Path\n",
        "from PyPDF2 import PdfFileReader\n",
        "\n",
        "# Change the path below to the correct path for your computer.\n",
        "pdf_path = (\n",
        "    Path.home()\n",
        "    / \"creating-and-modifying-pdfs\"\n",
        "    / \"practice-files\"\n",
        "    / \"Pride_and_Prejudice.pdf\"\n",
        ")"
      ],
      "execution_count": 19,
      "outputs": []
    },
    {
      "cell_type": "code",
      "metadata": {
        "id": "BtZ7ssNArQpy"
      },
      "source": [
        "#1 method\n",
        "pdf_reader = PdfFileReader(str('/content/drive/MyDrive/Resume_1626368897.pdf'))\n",
        "pdf_reader\n",
        "output_file_path = Path.home()"
      ],
      "execution_count": 37,
      "outputs": []
    },
    {
      "cell_type": "code",
      "metadata": {
        "id": "c8isYNDPrxUB"
      },
      "source": [
        "#2 method\n",
        "with output_file_path.open(mode=\"w\") as output_file:"
      ],
      "execution_count": null,
      "outputs": []
    },
    {
      "cell_type": "code",
      "metadata": {
        "id": "0_T305c9shx3"
      },
      "source": [
        "# 3\n",
        "title = pdf_reader.documentInfo.title\n",
        "num_pages = pdf_reader.getNumPages()\n",
        "output_file.write(f\"{title}\\\\nNumber of pages: {num_pages}\\\\n\\\\n\")"
      ],
      "execution_count": null,
      "outputs": []
    },
    {
      "cell_type": "code",
      "metadata": {
        "id": "CIRj3dAAswbJ"
      },
      "source": [
        "#4\n",
        "\n",
        "for page in pdf_reader.pages:\n",
        "        text = page.extractText()\n",
        "        output_file.write(text)"
      ],
      "execution_count": null,
      "outputs": []
    },
    {
      "cell_type": "code",
      "metadata": {
        "id": "J3uKGZ09s_vA"
      },
      "source": [
        "from PyPDF2 import PdfFileWriter"
      ],
      "execution_count": 40,
      "outputs": []
    },
    {
      "cell_type": "code",
      "metadata": {
        "id": "ZfYvLbePtDFU"
      },
      "source": [
        "pdf_writer = PdfFileWriter()"
      ],
      "execution_count": 41,
      "outputs": []
    },
    {
      "cell_type": "code",
      "metadata": {
        "id": "pUghOPgAtIlf"
      },
      "source": [
        "page = pdf_writer.addBlankPage(width=72, height=72)"
      ],
      "execution_count": 42,
      "outputs": []
    },
    {
      "cell_type": "code",
      "metadata": {
        "colab": {
          "base_uri": "https://localhost:8080/"
        },
        "id": "U8OmpWC4tK6z",
        "outputId": "311b194c-193e-44cc-c18a-b341665b5c27"
      },
      "source": [
        "type(page)"
      ],
      "execution_count": 43,
      "outputs": [
        {
          "output_type": "execute_result",
          "data": {
            "text/plain": [
              "PyPDF2.pdf.PageObject"
            ]
          },
          "metadata": {},
          "execution_count": 43
        }
      ]
    },
    {
      "cell_type": "code",
      "metadata": {
        "colab": {
          "base_uri": "https://localhost:8080/"
        },
        "id": "gG2l1dbKtNJU",
        "outputId": "8b97feb8-ef51-4e2a-f460-f1a0b7cf3401"
      },
      "source": [
        "pdf_writer.addBlankPage(width=72, height=72)"
      ],
      "execution_count": 44,
      "outputs": [
        {
          "output_type": "execute_result",
          "data": {
            "text/plain": [
              "{'/MediaBox': RectangleObject([0, 0, 72, 72]),\n",
              " '/Parent': {'/Count': 2,\n",
              "  '/Kids': [IndirectObject(3, 0), IndirectObject(4, 0)],\n",
              "  '/Type': '/Pages'},\n",
              " '/Resources': {},\n",
              " '/Type': '/Page'}"
            ]
          },
          "metadata": {},
          "execution_count": 44
        }
      ]
    },
    {
      "cell_type": "code",
      "metadata": {
        "id": "ZyMRGVxQtSHz"
      },
      "source": [
        "from pathlib import Path\n",
        "with Path(\"blank.pdf\").open(mode=\"wb\") as output_file:\n",
        "      pdf_writer.write(output_file)"
      ],
      "execution_count": 56,
      "outputs": []
    }
  ]
}